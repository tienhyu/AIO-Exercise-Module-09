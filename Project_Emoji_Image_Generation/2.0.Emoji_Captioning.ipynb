{
 "cells": [
  {
   "cell_type": "markdown",
   "id": "3ffa7740",
   "metadata": {},
   "source": [
    "# **1. Setup & Library Imports**"
   ]
  },
  {
   "cell_type": "code",
   "execution_count": 1,
   "id": "f9fe1781",
   "metadata": {},
   "outputs": [],
   "source": [
    "import os\n",
    "import pandas as pd\n",
    "import torch\n",
    "from transformers import Qwen2_5_VLForConditionalGeneration\n",
    "from transformers import AutoProcessor\n",
    "from PIL import Image\n",
    "from qwen_vl_utils import process_vision_info\n",
    "from tqdm import tqdm"
   ]
  },
  {
   "cell_type": "markdown",
   "id": "af7859b1",
   "metadata": {},
   "source": [
    "# **2. Model**"
   ]
  },
  {
   "cell_type": "code",
   "execution_count": 2,
   "id": "51f37199",
   "metadata": {},
   "outputs": [
    {
     "data": {
      "application/vnd.jupyter.widget-view+json": {
       "model_id": "c8ae1481a9e74c38b7a5f63ffcc945c6",
       "version_major": 2,
       "version_minor": 0
      },
      "text/plain": [
       "Fetching 2 files:   0%|          | 0/2 [00:00<?, ?it/s]"
      ]
     },
     "metadata": {},
     "output_type": "display_data"
    },
    {
     "data": {
      "application/vnd.jupyter.widget-view+json": {
       "model_id": "1ebb782911a640b0b51f608edfda794b",
       "version_major": 2,
       "version_minor": 0
      },
      "text/plain": [
       "model-00001-of-00002.safetensors:  71%|#######   | 2.81G/3.98G [00:00<?, ?B/s]"
      ]
     },
     "metadata": {},
     "output_type": "display_data"
    },
    {
     "data": {
      "application/vnd.jupyter.widget-view+json": {
       "model_id": "8270ef1e49534316a0d675f52e554ecd",
       "version_major": 2,
       "version_minor": 0
      },
      "text/plain": [
       "model-00002-of-00002.safetensors:  68%|######8   | 2.40G/3.53G [00:00<?, ?B/s]"
      ]
     },
     "metadata": {},
     "output_type": "display_data"
    },
    {
     "name": "stderr",
     "output_type": "stream",
     "text": [
      "c:\\Users\\tienn\\anaconda3\\envs\\Kaggle31012\\lib\\site-packages\\huggingface_hub\\file_download.py:144: UserWarning: `huggingface_hub` cache-system uses symlinks by default to efficiently store duplicated files but your machine does not support them in C:\\Users\\tienn\\.cache\\huggingface\\hub\\models--Qwen--Qwen2.5-VL-3B-Instruct. Caching files will still work but in a degraded version that might require more space on your disk. This warning can be disabled by setting the `HF_HUB_DISABLE_SYMLINKS_WARNING` environment variable. For more details, see https://huggingface.co/docs/huggingface_hub/how-to-cache#limitations.\n",
      "To support symlinks on Windows, you either need to activate Developer Mode or to run Python as an administrator. In order to activate developer mode, see this article: https://docs.microsoft.com/en-us/windows/apps/get-started/enable-your-device-for-development\n",
      "  warnings.warn(message)\n"
     ]
    },
    {
     "data": {
      "application/vnd.jupyter.widget-view+json": {
       "model_id": "49f72261e4f64603a453de2e311e9ad0",
       "version_major": 2,
       "version_minor": 0
      },
      "text/plain": [
       "Loading checkpoint shards:   0%|          | 0/2 [00:00<?, ?it/s]"
      ]
     },
     "metadata": {},
     "output_type": "display_data"
    },
    {
     "data": {
      "application/vnd.jupyter.widget-view+json": {
       "model_id": "466588e57d4b4441b01cd1705e1da965",
       "version_major": 2,
       "version_minor": 0
      },
      "text/plain": [
       "generation_config.json:   0%|          | 0.00/216 [00:00<?, ?B/s]"
      ]
     },
     "metadata": {},
     "output_type": "display_data"
    },
    {
     "data": {
      "application/vnd.jupyter.widget-view+json": {
       "model_id": "5059e82b0baf4ae8949529534de716b8",
       "version_major": 2,
       "version_minor": 0
      },
      "text/plain": [
       "preprocessor_config.json:   0%|          | 0.00/350 [00:00<?, ?B/s]"
      ]
     },
     "metadata": {},
     "output_type": "display_data"
    },
    {
     "name": "stderr",
     "output_type": "stream",
     "text": [
      "Using a slow image processor as `use_fast` is unset and a slow processor was saved with this model. `use_fast=True` will be the default behavior in v4.52, even if the model was saved with a slow processor. This will result in minor differences in outputs. You'll still be able to use a slow processor with `use_fast=False`.\n"
     ]
    },
    {
     "data": {
      "application/vnd.jupyter.widget-view+json": {
       "model_id": "edbe3707e4e64001a11f3ce040fbd0e9",
       "version_major": 2,
       "version_minor": 0
      },
      "text/plain": [
       "tokenizer_config.json:   0%|          | 0.00/5.70k [00:00<?, ?B/s]"
      ]
     },
     "metadata": {},
     "output_type": "display_data"
    },
    {
     "data": {
      "application/vnd.jupyter.widget-view+json": {
       "model_id": "d182c47232014ee68aad21c1a247b178",
       "version_major": 2,
       "version_minor": 0
      },
      "text/plain": [
       "vocab.json:   0%|          | 0.00/2.78M [00:00<?, ?B/s]"
      ]
     },
     "metadata": {},
     "output_type": "display_data"
    },
    {
     "data": {
      "application/vnd.jupyter.widget-view+json": {
       "model_id": "6663c0729b0144ad97c5a42bc0699537",
       "version_major": 2,
       "version_minor": 0
      },
      "text/plain": [
       "merges.txt:   0%|          | 0.00/1.67M [00:00<?, ?B/s]"
      ]
     },
     "metadata": {},
     "output_type": "display_data"
    },
    {
     "data": {
      "application/vnd.jupyter.widget-view+json": {
       "model_id": "bc21f10e744d40f9a2d88fe2f022baea",
       "version_major": 2,
       "version_minor": 0
      },
      "text/plain": [
       "tokenizer.json:   0%|          | 0.00/7.03M [00:00<?, ?B/s]"
      ]
     },
     "metadata": {},
     "output_type": "display_data"
    },
    {
     "data": {
      "application/vnd.jupyter.widget-view+json": {
       "model_id": "29d8f98155864dcb8e359176b75f72c0",
       "version_major": 2,
       "version_minor": 0
      },
      "text/plain": [
       "chat_template.json:   0%|          | 0.00/1.05k [00:00<?, ?B/s]"
      ]
     },
     "metadata": {},
     "output_type": "display_data"
    }
   ],
   "source": [
    "model_id = \"Qwen/Qwen2.5-VL-3B-Instruct\"\n",
    "\n",
    "model = Qwen2_5_VLForConditionalGeneration.from_pretrained(\n",
    "    model_id,\n",
    "    torch_dtype=torch.bfloat16,\n",
    "    device_map=\"auto\"\n",
    ")\n",
    "\n",
    "processor = AutoProcessor.from_pretrained(model_id)"
   ]
  },
  {
   "cell_type": "markdown",
   "id": "e1515e2d",
   "metadata": {},
   "source": [
    "# **3. Create prompt function**"
   ]
  },
  {
   "cell_type": "code",
   "execution_count": 3,
   "id": "ff3c5d3a",
   "metadata": {},
   "outputs": [],
   "source": [
    "def create_prompt(emoji_title):\n",
    "    instruction = {\n",
    "        \"Instruction\": \"Given the emoji title and the corresponding image, generate a natural language description \"\n",
    "                       \"of the emoji's key features. The description should include: 1) the head shape, 2) eye characteristics, \"\n",
    "                       \"3) mouth characteristics, 4) facial expression, 5) skin color, 6) any action (if present), and 7) background color.\\n\"\n",
    "                       \"The description should be concise and structured like this:\\n\"\n",
    "                       \"\\\"{emoji_title} emoji with a {head shape}, {eye description} eyes, {mouth description} mouth, \"\n",
    "                       \"{expression description} expression, {skin color} skin color, {action description}, \"\n",
    "                       \"with a {background color} background.\\\"\"\n",
    "    }\n",
    "    example = {\n",
    "        \"Example\": \"For an emoji titled 'Pepe the Frog', the description should be like:\\n\"\n",
    "                   \"'Pepe the frog emoji with a round head, big eyes, smiling mouth, happy expression, \"\n",
    "                   \"green skin color, no action, with a green background.'\"\n",
    "    }\n",
    "    prompt = f\"{instruction}\\n{example}\\nInput: '{emoji_title}'\"\n",
    "    return prompt"
   ]
  },
  {
   "cell_type": "markdown",
   "id": "b53dbe4f",
   "metadata": {},
   "source": [
    "# **4. Setup input**"
   ]
  },
  {
   "cell_type": "code",
   "execution_count": 7,
   "id": "5a1e3a48",
   "metadata": {},
   "outputs": [],
   "source": [
    "df = pd.read_csv('crawled_data/metadata.csv')\n",
    "subfolder = 'emoji_dataset'\n",
    "images_folder = 'crawled_data/images'"
   ]
  },
  {
   "cell_type": "code",
   "execution_count": 8,
   "id": "356b7bbc",
   "metadata": {},
   "outputs": [
    {
     "name": "stderr",
     "output_type": "stream",
     "text": [
      "Processing emoji_dataset:   0%|          | 0/3866 [00:00<?, ?it/s]c:\\Users\\tienn\\anaconda3\\envs\\Kaggle31012\\lib\\site-packages\\transformers\\models\\qwen2_5_vl\\modeling_qwen2_5_vl.py:306: UserWarning: 1Torch was not compiled with flash attention. (Triggered internally at ..\\aten\\src\\ATen\\native\\transformers\\cuda\\sdp_utils.cpp:263.)\n",
      "  attn_output = F.scaled_dot_product_attention(\n",
      "Processing emoji_dataset: 100%|██████████| 3866/3866 [3:18:00<00:00,  3.07s/it]  \n"
     ]
    }
   ],
   "source": [
    "for _, row in tqdm(df.iterrows(), total=len(df), desc=f\"Processing {subfolder}\"):\n",
    "    image_path = os.path.join(images_folder, row[\"file_name\"])\n",
    "    prompt = create_prompt(row[\"image_title\"])\n",
    "\n",
    "    image = Image.open(image_path).convert(\"RGBA\")\n",
    "\n",
    "    messages = [\n",
    "        {\n",
    "            \"role\": \"user\",\n",
    "            \"content\": [\n",
    "                {\"type\": \"image\", \"image\": image},\n",
    "                {\"type\": \"text\", \"text\": prompt},\n",
    "            ],\n",
    "        }\n",
    "    ]\n",
    "\n",
    "    text = processor.apply_chat_template(\n",
    "        messages, tokenize=False, add_generation_prompt=True\n",
    "    )\n",
    "    image_inputs, video_inputs = process_vision_info(messages)\n",
    "\n",
    "    inputs = processor(\n",
    "        text=[text],\n",
    "        images=image_inputs,\n",
    "        videos=video_inputs,\n",
    "        padding=True,\n",
    "        return_tensors=\"pt\"\n",
    "    ).to(\"cuda\")\n",
    "\n",
    "    generated_ids = model.generate(**inputs, max_new_tokens=128)\n",
    "    generated_ids_trimmed = [\n",
    "        out_ids[len(in_ids):] for in_ids, out_ids in zip(inputs.input_ids, generated_ids)\n",
    "    ]\n",
    "    result_text = processor.batch_decode(\n",
    "        generated_ids_trimmed, skip_special_tokens=True, clean_up_tokenization_spaces=False\n",
    "    )[0]\n",
    "\n",
    "    df.loc[_, \"prompt\"] = result_text"
   ]
  },
  {
   "cell_type": "code",
   "execution_count": 9,
   "id": "cb3717c3",
   "metadata": {},
   "outputs": [],
   "source": [
    "# Add this after your loop finishes\n",
    "df.to_csv(\"emoji_descriptions.csv\", index=False)"
   ]
  }
 ],
 "metadata": {
  "kernelspec": {
   "display_name": "Kaggle31012",
   "language": "python",
   "name": "python3"
  },
  "language_info": {
   "codemirror_mode": {
    "name": "ipython",
    "version": 3
   },
   "file_extension": ".py",
   "mimetype": "text/x-python",
   "name": "python",
   "nbconvert_exporter": "python",
   "pygments_lexer": "ipython3",
   "version": "3.10.12"
  }
 },
 "nbformat": 4,
 "nbformat_minor": 5
}
